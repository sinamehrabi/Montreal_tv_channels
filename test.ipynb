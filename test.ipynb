{
 "cells": [
  {
   "cell_type": "markdown",
   "metadata": {},
   "source": [
    "##                                                     Import libraries"
   ]
  },
  {
   "cell_type": "code",
   "execution_count": 1,
   "metadata": {},
   "outputs": [],
   "source": [
    "import pandas as pd\n",
    "import numpy as np\n",
    "import matplotlib.pyplot as plt\n",
    "from sklearn import preprocessing\n",
    "from sklearn.preprocessing import MinMaxScaler, StandardScaler\n",
    "from sklearn.model_selection import ShuffleSplit\n",
    "from sklearn.metrics import mean_absolute_error, r2_score\n",
    "from sklearn.ensemble import RandomForestRegressor\n",
    "import scipy.stats"
   ]
  },
  {
   "cell_type": "markdown",
   "metadata": {},
   "source": [
    "## Read data"
   ]
  },
  {
   "cell_type": "code",
   "execution_count": 2,
   "metadata": {},
   "outputs": [],
   "source": [
    "train_df = pd.read_csv('data.csv') #read original train data\n",
    "test_df = pd.read_csv('test.csv') #read original test data"
   ]
  },
  {
   "cell_type": "markdown",
   "metadata": {},
   "source": [
    "## Functions\n"
   ]
  },
  {
   "cell_type": "code",
   "execution_count": 3,
   "metadata": {},
   "outputs": [],
   "source": [
    "def drop_columns(df, column_names):\n",
    "    \"\"\"\n",
    "    \n",
    "    df: input dataframe\n",
    "    column_names: list of column's name\n",
    "    return: dataframe with dropped columns\n",
    "     \n",
    "    \"\"\"\n",
    "    new_df = df.copy(deep=True)\n",
    "    new_df.drop(column_names, axis=1, inplace=True)\n",
    "    return new_df\n"
   ]
  },
  {
   "cell_type": "markdown",
   "metadata": {},
   "source": [
    "# Preprocessing"
   ]
  },
  {
   "cell_type": "markdown",
   "metadata": {},
   "source": [
    "### Convert Date feature to Month and Day"
   ]
  },
  {
   "cell_type": "code",
   "execution_count": 4,
   "metadata": {},
   "outputs": [],
   "source": [
    "train_df['Date'] = pd.to_datetime(train_df['Date'])\n",
    "train_df['Month'] = train_df.Date.dt.month\n",
    "train_df['Day'] = train_df.Date.dt.day\n",
    "\n",
    "test_df['Date'] = pd.to_datetime(test_df['Date'])\n",
    "test_df['Month'] = train_df.Date.dt.month\n",
    "test_df['Day'] = train_df.Date.dt.day"
   ]
  },
  {
   "cell_type": "code",
   "execution_count": 5,
   "metadata": {},
   "outputs": [],
   "source": [
    "column_names = ['Unnamed: 0','Date', 'Start_time', 'End_time','Name of show', 'Name of episode']"
   ]
  },
  {
   "cell_type": "markdown",
   "metadata": {},
   "source": [
    "### We have NaN values on \"Temperature in Montreal during episode\" features..I choose linear Interpolate to fill NaN values"
   ]
  },
  {
   "cell_type": "code",
   "execution_count": 6,
   "metadata": {},
   "outputs": [],
   "source": [
    "train_df['Temperature in Montreal during episode'].interpolate(inplace=True)\n",
    "test_df['Temperature in Montreal during episode'].interpolate(inplace=True)"
   ]
  },
  {
   "cell_type": "markdown",
   "metadata": {},
   "source": [
    "## Label Encoding with simple label encoder"
   ]
  },
  {
   "cell_type": "code",
   "execution_count": 7,
   "metadata": {},
   "outputs": [],
   "source": [
    "temp_train_df = drop_columns(train_df, column_names)\n",
    "temp_test_df = drop_columns(test_df, column_names)\n",
    "\n",
    "\n",
    "train_target_df = temp_train_df['Market Share_total']\n",
    "train_df = temp_train_df.copy(deep=True)\n",
    "train_df.drop(['Market Share_total'], axis=1, inplace=True)\n",
    "\n",
    "\n",
    "test_df = temp_test_df.copy(deep=True)\n",
    "\n",
    "all_data = pd.concat([train_df, test_df], keys=['train', 'test'])\n",
    "\n",
    "le = preprocessing.LabelEncoder()\n",
    "\n",
    "for item in train_df.loc[:, ~train_df.columns.isin(['Temperature in Montreal during episode','Year', 'Length', 'Month', 'Day'])]:\n",
    "    \n",
    "    all_data[item] = le.fit_transform(all_data[item]) + 1 # use label encoding for both train and test data\n",
    "\n",
    "\n",
    "test_df = all_data.xs('test')\n",
    "train_df = all_data.xs('train')\n"
   ]
  },
  {
   "cell_type": "markdown",
   "metadata": {},
   "source": [
    "### Normalize our data"
   ]
  },
  {
   "cell_type": "code",
   "execution_count": 8,
   "metadata": {},
   "outputs": [],
   "source": [
    "scaler = StandardScaler()\n",
    "Normalized_train_arr = scaler.fit_transform(train_df)\n",
    "Normalized_test_arr = scaler.transform(test_df) #use same fit to train for test\n",
    "Normalized_train_target_arr = scaler.fit_transform(train_target_df.values.reshape(-1,1))\n",
    "\n"
   ]
  },
  {
   "cell_type": "markdown",
   "metadata": {},
   "source": [
    "## Train and Test"
   ]
  },
  {
   "cell_type": "code",
   "execution_count": 9,
   "metadata": {},
   "outputs": [
    {
     "name": "stderr",
     "output_type": "stream",
     "text": [
      "/home/cna/anaconda3/lib/python3.7/site-packages/ipykernel_launcher.py:7: DataConversionWarning: A column-vector y was passed when a 1d array was expected. Please change the shape of y to (n_samples,), for example using ravel().\n",
      "  import sys\n"
     ]
    }
   ],
   "source": [
    "train_X = Normalized_train_arr\n",
    "train_Y = Normalized_train_target_arr\n",
    "    \n",
    "test_X = Normalized_test_arr\n",
    "    \n",
    "regr = RandomForestRegressor(n_estimators=12, random_state=0, n_jobs=-1)\n",
    "regr.fit(train_X, train_Y)\n",
    "pred_y = regr.predict(test_X)\n"
   ]
  },
  {
   "cell_type": "code",
   "execution_count": 10,
   "metadata": {},
   "outputs": [],
   "source": [
    "results = scaler.inverse_transform(pred_y.reshape(-1,1))\n",
    "np.savetxt(\"results.csv\", results, delimiter=\",\", header=\"Market Share_total\")"
   ]
  }
 ],
 "metadata": {
  "kernelspec": {
   "display_name": "Python 3",
   "language": "python",
   "name": "python3"
  },
  "language_info": {
   "codemirror_mode": {
    "name": "ipython",
    "version": 3
   },
   "file_extension": ".py",
   "mimetype": "text/x-python",
   "name": "python",
   "nbconvert_exporter": "python",
   "pygments_lexer": "ipython3",
   "version": "3.7.4"
  },
  "pycharm": {
   "stem_cell": {
    "cell_type": "raw",
    "metadata": {
     "collapsed": false
    },
    "source": []
   }
  },
  "widgets": {
   "application/vnd.jupyter.widget-state+json": {
    "state": {},
    "version_major": 2,
    "version_minor": 0
   }
  }
 },
 "nbformat": 4,
 "nbformat_minor": 2
}
