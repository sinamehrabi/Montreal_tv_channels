{
 "cells": [
  {
   "cell_type": "markdown",
   "metadata": {},
   "source": [
    "##                                                     Import libraries"
   ]
  },
  {
   "cell_type": "code",
   "execution_count": 1,
   "metadata": {},
   "outputs": [],
   "source": [
    "import pandas as pd\n",
    "import numpy as np\n",
    "from sklearn import preprocessing\n",
    "from sklearn.preprocessing import MinMaxScaler, StandardScaler\n",
    "from sklearn.model_selection import ShuffleSplit\n",
    "from sklearn.metrics import mean_absolute_error, r2_score\n",
    "from sklearn.ensemble import RandomForestRegressor\n",
    "import scipy.stats"
   ]
  },
  {
   "cell_type": "markdown",
   "metadata": {},
   "source": [
    "## Read data"
   ]
  },
  {
   "cell_type": "code",
   "execution_count": 2,
   "metadata": {},
   "outputs": [],
   "source": [
    "train_df = pd.read_csv('data.csv') #read original train data"
   ]
  },
  {
   "cell_type": "markdown",
   "metadata": {},
   "source": [
    "## Functions\n"
   ]
  },
  {
   "cell_type": "code",
   "execution_count": 3,
   "metadata": {},
   "outputs": [],
   "source": [
    "def drop_columns(df, column_names):\n",
    "    \"\"\"\n",
    "    \n",
    "    df: input dataframe\n",
    "    column_names: list of column's name\n",
    "    return: dataframe with dropped columns\n",
    "     \n",
    "    \"\"\"\n",
    "    new_df = df.copy(deep=True)\n",
    "    new_df.drop(column_names, axis=1, inplace=True)\n",
    "    return new_df\n",
    "\n"
   ]
  },
  {
   "cell_type": "markdown",
   "metadata": {},
   "source": [
    "# Preprocessing"
   ]
  },
  {
   "cell_type": "markdown",
   "metadata": {},
   "source": [
    "### 1- First discover our data generally"
   ]
  },
  {
   "cell_type": "code",
   "execution_count": 4,
   "metadata": {},
   "outputs": [
    {
     "data": {
      "text/html": [
       "<div>\n",
       "<style scoped>\n",
       "    .dataframe tbody tr th:only-of-type {\n",
       "        vertical-align: middle;\n",
       "    }\n",
       "\n",
       "    .dataframe tbody tr th {\n",
       "        vertical-align: top;\n",
       "    }\n",
       "\n",
       "    .dataframe thead th {\n",
       "        text-align: right;\n",
       "    }\n",
       "</style>\n",
       "<table border=\"1\" class=\"dataframe\">\n",
       "  <thead>\n",
       "    <tr style=\"text-align: right;\">\n",
       "      <th></th>\n",
       "      <th>Unnamed: 0</th>\n",
       "      <th>Episode</th>\n",
       "      <th>Station</th>\n",
       "      <th>Channel Type</th>\n",
       "      <th>Season</th>\n",
       "      <th>Year</th>\n",
       "      <th>Date</th>\n",
       "      <th>Day of week</th>\n",
       "      <th>Start_time</th>\n",
       "      <th>End_time</th>\n",
       "      <th>Length</th>\n",
       "      <th>Name of show</th>\n",
       "      <th>Name of episode</th>\n",
       "      <th>Genre</th>\n",
       "      <th>First time or rerun</th>\n",
       "      <th># of episode in the season</th>\n",
       "      <th>Movie?</th>\n",
       "      <th>Game of the Canadiens during episode?</th>\n",
       "      <th>Market Share_total</th>\n",
       "      <th>Temperature in Montreal during episode</th>\n",
       "    </tr>\n",
       "  </thead>\n",
       "  <tbody>\n",
       "    <tr>\n",
       "      <td>0</td>\n",
       "      <td>1</td>\n",
       "      <td>Vidéoclips V</td>\n",
       "      <td>V Total</td>\n",
       "      <td>General Channel</td>\n",
       "      <td>Fall</td>\n",
       "      <td>2016</td>\n",
       "      <td>2016-08-29</td>\n",
       "      <td>Monday</td>\n",
       "      <td>2016-08-29 06:00:00</td>\n",
       "      <td>2016-08-29 08:00:00</td>\n",
       "      <td>8</td>\n",
       "      <td>Vidéoclips V</td>\n",
       "      <td>NaN</td>\n",
       "      <td>Music Video Clips</td>\n",
       "      <td>No</td>\n",
       "      <td>Yes</td>\n",
       "      <td>No</td>\n",
       "      <td>No</td>\n",
       "      <td>0.9</td>\n",
       "      <td>20.400</td>\n",
       "    </tr>\n",
       "    <tr>\n",
       "      <td>1</td>\n",
       "      <td>2</td>\n",
       "      <td>Apollo dans l'frigo</td>\n",
       "      <td>V Total</td>\n",
       "      <td>General Channel</td>\n",
       "      <td>Fall</td>\n",
       "      <td>2016</td>\n",
       "      <td>2016-08-29</td>\n",
       "      <td>Monday</td>\n",
       "      <td>2016-08-29 08:00:00</td>\n",
       "      <td>2016-08-29 08:30:00</td>\n",
       "      <td>2</td>\n",
       "      <td>Apollo dans l'frigo</td>\n",
       "      <td>NaN</td>\n",
       "      <td>Informal Education and Recreation and Leisure</td>\n",
       "      <td>No</td>\n",
       "      <td>Yes</td>\n",
       "      <td>No</td>\n",
       "      <td>No</td>\n",
       "      <td>0.5</td>\n",
       "      <td>19.125</td>\n",
       "    </tr>\n",
       "    <tr>\n",
       "      <td>2</td>\n",
       "      <td>3</td>\n",
       "      <td>Infopublicité</td>\n",
       "      <td>V Total</td>\n",
       "      <td>General Channel</td>\n",
       "      <td>Fall</td>\n",
       "      <td>2016</td>\n",
       "      <td>2016-08-29</td>\n",
       "      <td>Monday</td>\n",
       "      <td>2016-08-29 08:30:00</td>\n",
       "      <td>2016-08-29 09:00:00</td>\n",
       "      <td>2</td>\n",
       "      <td>Infopublicité</td>\n",
       "      <td>NaN</td>\n",
       "      <td>Infomercials, Promotional and Corporate Videos</td>\n",
       "      <td>No</td>\n",
       "      <td>Yes</td>\n",
       "      <td>No</td>\n",
       "      <td>No</td>\n",
       "      <td>0.3</td>\n",
       "      <td>19.125</td>\n",
       "    </tr>\n",
       "    <tr>\n",
       "      <td>3</td>\n",
       "      <td>4</td>\n",
       "      <td>Infos, Les</td>\n",
       "      <td>V Total</td>\n",
       "      <td>General Channel</td>\n",
       "      <td>Fall</td>\n",
       "      <td>2016</td>\n",
       "      <td>2016-08-29</td>\n",
       "      <td>Monday</td>\n",
       "      <td>2016-08-29 09:00:00</td>\n",
       "      <td>2016-08-29 10:00:00</td>\n",
       "      <td>4</td>\n",
       "      <td>Infos, Les</td>\n",
       "      <td>NaN</td>\n",
       "      <td>News</td>\n",
       "      <td>No</td>\n",
       "      <td>Yes</td>\n",
       "      <td>No</td>\n",
       "      <td>No</td>\n",
       "      <td>1.7</td>\n",
       "      <td>18.125</td>\n",
       "    </tr>\n",
       "    <tr>\n",
       "      <td>4</td>\n",
       "      <td>5</td>\n",
       "      <td>Souper presque parfait, Un</td>\n",
       "      <td>V Total</td>\n",
       "      <td>General Channel</td>\n",
       "      <td>Fall</td>\n",
       "      <td>2016</td>\n",
       "      <td>2016-08-29</td>\n",
       "      <td>Monday</td>\n",
       "      <td>2016-08-29 10:00:00</td>\n",
       "      <td>2016-08-29 10:30:00</td>\n",
       "      <td>2</td>\n",
       "      <td>Souper presque parfait, Un</td>\n",
       "      <td>NaN</td>\n",
       "      <td>Reality Programs</td>\n",
       "      <td>No</td>\n",
       "      <td>Yes</td>\n",
       "      <td>No</td>\n",
       "      <td>No</td>\n",
       "      <td>2.2</td>\n",
       "      <td>18.250</td>\n",
       "    </tr>\n",
       "    <tr>\n",
       "      <td>...</td>\n",
       "      <td>...</td>\n",
       "      <td>...</td>\n",
       "      <td>...</td>\n",
       "      <td>...</td>\n",
       "      <td>...</td>\n",
       "      <td>...</td>\n",
       "      <td>...</td>\n",
       "      <td>...</td>\n",
       "      <td>...</td>\n",
       "      <td>...</td>\n",
       "      <td>...</td>\n",
       "      <td>...</td>\n",
       "      <td>...</td>\n",
       "      <td>...</td>\n",
       "      <td>...</td>\n",
       "      <td>...</td>\n",
       "      <td>...</td>\n",
       "      <td>...</td>\n",
       "      <td>...</td>\n",
       "      <td>...</td>\n",
       "    </tr>\n",
       "    <tr>\n",
       "      <td>616646</td>\n",
       "      <td>616647</td>\n",
       "      <td>Structures abandonnées</td>\n",
       "      <td>Canal D+</td>\n",
       "      <td>Specialty Channel</td>\n",
       "      <td>Winter</td>\n",
       "      <td>2019</td>\n",
       "      <td>2019-01-22</td>\n",
       "      <td>Tuesday</td>\n",
       "      <td>2019-01-22 01:00:00</td>\n",
       "      <td>2019-01-22 02:00:00</td>\n",
       "      <td>4</td>\n",
       "      <td>Structures abandonnées</td>\n",
       "      <td>Ambitions dépassées</td>\n",
       "      <td>Long-form Documentary</td>\n",
       "      <td>No</td>\n",
       "      <td>Yes</td>\n",
       "      <td>No</td>\n",
       "      <td>No</td>\n",
       "      <td>5.8</td>\n",
       "      <td>-18.575</td>\n",
       "    </tr>\n",
       "    <tr>\n",
       "      <td>616647</td>\n",
       "      <td>616648</td>\n",
       "      <td>VRAK la vie (M)</td>\n",
       "      <td>VRAK+</td>\n",
       "      <td>Specialty Channel</td>\n",
       "      <td>Winter</td>\n",
       "      <td>2019</td>\n",
       "      <td>2019-01-22</td>\n",
       "      <td>Tuesday</td>\n",
       "      <td>2019-01-22 06:00:00</td>\n",
       "      <td>2019-01-22 06:30:00</td>\n",
       "      <td>2</td>\n",
       "      <td>VRAK la vie (M)</td>\n",
       "      <td>La fin du monde</td>\n",
       "      <td>Ongoing Comedy Series (Sitcoms)</td>\n",
       "      <td>No</td>\n",
       "      <td>Yes</td>\n",
       "      <td>No</td>\n",
       "      <td>No</td>\n",
       "      <td>0.2</td>\n",
       "      <td>-21.300</td>\n",
       "    </tr>\n",
       "    <tr>\n",
       "      <td>616648</td>\n",
       "      <td>616649</td>\n",
       "      <td>VRAK la vie (M)</td>\n",
       "      <td>VRAK+</td>\n",
       "      <td>Specialty Channel</td>\n",
       "      <td>Winter</td>\n",
       "      <td>2019</td>\n",
       "      <td>2019-01-22</td>\n",
       "      <td>Tuesday</td>\n",
       "      <td>2019-01-22 06:30:00</td>\n",
       "      <td>2019-01-22 07:00:00</td>\n",
       "      <td>2</td>\n",
       "      <td>VRAK la vie (M)</td>\n",
       "      <td>Le parcours de bonbons maudit</td>\n",
       "      <td>Ongoing Comedy Series (Sitcoms)</td>\n",
       "      <td>No</td>\n",
       "      <td>Yes</td>\n",
       "      <td>No</td>\n",
       "      <td>No</td>\n",
       "      <td>0.5</td>\n",
       "      <td>-21.300</td>\n",
       "    </tr>\n",
       "    <tr>\n",
       "      <td>616649</td>\n",
       "      <td>616650</td>\n",
       "      <td>VRAK la vie (M)</td>\n",
       "      <td>VRAK+</td>\n",
       "      <td>Specialty Channel</td>\n",
       "      <td>Winter</td>\n",
       "      <td>2019</td>\n",
       "      <td>2019-01-22</td>\n",
       "      <td>Tuesday</td>\n",
       "      <td>2019-01-22 07:00:00</td>\n",
       "      <td>2019-01-22 07:30:00</td>\n",
       "      <td>2</td>\n",
       "      <td>VRAK la vie (M)</td>\n",
       "      <td>La fanatique</td>\n",
       "      <td>Ongoing Comedy Series (Sitcoms)</td>\n",
       "      <td>No</td>\n",
       "      <td>Yes</td>\n",
       "      <td>No</td>\n",
       "      <td>No</td>\n",
       "      <td>0.7</td>\n",
       "      <td>-21.775</td>\n",
       "    </tr>\n",
       "    <tr>\n",
       "      <td>616650</td>\n",
       "      <td>616651</td>\n",
       "      <td>VRAK la vie (M)</td>\n",
       "      <td>VRAK+</td>\n",
       "      <td>Specialty Channel</td>\n",
       "      <td>Winter</td>\n",
       "      <td>2019</td>\n",
       "      <td>2019-01-22</td>\n",
       "      <td>Tuesday</td>\n",
       "      <td>2019-01-22 07:30:00</td>\n",
       "      <td>2019-01-22 08:00:00</td>\n",
       "      <td>2</td>\n",
       "      <td>VRAK la vie (M)</td>\n",
       "      <td>Spécial Western</td>\n",
       "      <td>Ongoing Comedy Series (Sitcoms)</td>\n",
       "      <td>No</td>\n",
       "      <td>Yes</td>\n",
       "      <td>No</td>\n",
       "      <td>No</td>\n",
       "      <td>0.3</td>\n",
       "      <td>-21.775</td>\n",
       "    </tr>\n",
       "  </tbody>\n",
       "</table>\n",
       "<p>616651 rows × 20 columns</p>\n",
       "</div>"
      ],
      "text/plain": [
       "        Unnamed: 0                     Episode   Station       Channel Type  \\\n",
       "0                1                Vidéoclips V   V Total    General Channel   \n",
       "1                2         Apollo dans l'frigo   V Total    General Channel   \n",
       "2                3               Infopublicité   V Total    General Channel   \n",
       "3                4                  Infos, Les   V Total    General Channel   \n",
       "4                5  Souper presque parfait, Un   V Total    General Channel   \n",
       "...            ...                         ...       ...                ...   \n",
       "616646      616647      Structures abandonnées  Canal D+  Specialty Channel   \n",
       "616647      616648             VRAK la vie (M)     VRAK+  Specialty Channel   \n",
       "616648      616649             VRAK la vie (M)     VRAK+  Specialty Channel   \n",
       "616649      616650             VRAK la vie (M)     VRAK+  Specialty Channel   \n",
       "616650      616651             VRAK la vie (M)     VRAK+  Specialty Channel   \n",
       "\n",
       "        Season  Year        Date Day of week           Start_time  \\\n",
       "0         Fall  2016  2016-08-29      Monday  2016-08-29 06:00:00   \n",
       "1         Fall  2016  2016-08-29      Monday  2016-08-29 08:00:00   \n",
       "2         Fall  2016  2016-08-29      Monday  2016-08-29 08:30:00   \n",
       "3         Fall  2016  2016-08-29      Monday  2016-08-29 09:00:00   \n",
       "4         Fall  2016  2016-08-29      Monday  2016-08-29 10:00:00   \n",
       "...        ...   ...         ...         ...                  ...   \n",
       "616646  Winter  2019  2019-01-22     Tuesday  2019-01-22 01:00:00   \n",
       "616647  Winter  2019  2019-01-22     Tuesday  2019-01-22 06:00:00   \n",
       "616648  Winter  2019  2019-01-22     Tuesday  2019-01-22 06:30:00   \n",
       "616649  Winter  2019  2019-01-22     Tuesday  2019-01-22 07:00:00   \n",
       "616650  Winter  2019  2019-01-22     Tuesday  2019-01-22 07:30:00   \n",
       "\n",
       "                   End_time  Length                Name of show  \\\n",
       "0       2016-08-29 08:00:00       8                Vidéoclips V   \n",
       "1       2016-08-29 08:30:00       2         Apollo dans l'frigo   \n",
       "2       2016-08-29 09:00:00       2               Infopublicité   \n",
       "3       2016-08-29 10:00:00       4                  Infos, Les   \n",
       "4       2016-08-29 10:30:00       2  Souper presque parfait, Un   \n",
       "...                     ...     ...                         ...   \n",
       "616646  2019-01-22 02:00:00       4      Structures abandonnées   \n",
       "616647  2019-01-22 06:30:00       2             VRAK la vie (M)   \n",
       "616648  2019-01-22 07:00:00       2             VRAK la vie (M)   \n",
       "616649  2019-01-22 07:30:00       2             VRAK la vie (M)   \n",
       "616650  2019-01-22 08:00:00       2             VRAK la vie (M)   \n",
       "\n",
       "                      Name of episode  \\\n",
       "0                                 NaN   \n",
       "1                                 NaN   \n",
       "2                                 NaN   \n",
       "3                                 NaN   \n",
       "4                                 NaN   \n",
       "...                               ...   \n",
       "616646            Ambitions dépassées   \n",
       "616647                La fin du monde   \n",
       "616648  Le parcours de bonbons maudit   \n",
       "616649                   La fanatique   \n",
       "616650                Spécial Western   \n",
       "\n",
       "                                                 Genre First time or rerun  \\\n",
       "0                                    Music Video Clips                  No   \n",
       "1        Informal Education and Recreation and Leisure                  No   \n",
       "2       Infomercials, Promotional and Corporate Videos                  No   \n",
       "3                                                 News                  No   \n",
       "4                                     Reality Programs                  No   \n",
       "...                                                ...                 ...   \n",
       "616646                           Long-form Documentary                  No   \n",
       "616647                 Ongoing Comedy Series (Sitcoms)                  No   \n",
       "616648                 Ongoing Comedy Series (Sitcoms)                  No   \n",
       "616649                 Ongoing Comedy Series (Sitcoms)                  No   \n",
       "616650                 Ongoing Comedy Series (Sitcoms)                  No   \n",
       "\n",
       "       # of episode in the season Movie?  \\\n",
       "0                             Yes     No   \n",
       "1                             Yes     No   \n",
       "2                             Yes     No   \n",
       "3                             Yes     No   \n",
       "4                             Yes     No   \n",
       "...                           ...    ...   \n",
       "616646                        Yes     No   \n",
       "616647                        Yes     No   \n",
       "616648                        Yes     No   \n",
       "616649                        Yes     No   \n",
       "616650                        Yes     No   \n",
       "\n",
       "       Game of the Canadiens during episode?  Market Share_total  \\\n",
       "0                                         No                 0.9   \n",
       "1                                         No                 0.5   \n",
       "2                                         No                 0.3   \n",
       "3                                         No                 1.7   \n",
       "4                                         No                 2.2   \n",
       "...                                      ...                 ...   \n",
       "616646                                    No                 5.8   \n",
       "616647                                    No                 0.2   \n",
       "616648                                    No                 0.5   \n",
       "616649                                    No                 0.7   \n",
       "616650                                    No                 0.3   \n",
       "\n",
       "        Temperature in Montreal during episode  \n",
       "0                                       20.400  \n",
       "1                                       19.125  \n",
       "2                                       19.125  \n",
       "3                                       18.125  \n",
       "4                                       18.250  \n",
       "...                                        ...  \n",
       "616646                                 -18.575  \n",
       "616647                                 -21.300  \n",
       "616648                                 -21.300  \n",
       "616649                                 -21.775  \n",
       "616650                                 -21.775  \n",
       "\n",
       "[616651 rows x 20 columns]"
      ]
     },
     "execution_count": 4,
     "metadata": {},
     "output_type": "execute_result"
    }
   ],
   "source": [
    "train_df.head(-5)"
   ]
  },
  {
   "cell_type": "markdown",
   "metadata": {},
   "source": [
    "#### we have 20 features and 616656 samples"
   ]
  },
  {
   "cell_type": "code",
   "execution_count": 5,
   "metadata": {},
   "outputs": [
    {
     "data": {
      "text/plain": [
       "(616656, 20)"
      ]
     },
     "execution_count": 5,
     "metadata": {},
     "output_type": "execute_result"
    }
   ],
   "source": [
    "train_df.shape"
   ]
  },
  {
   "cell_type": "markdown",
   "metadata": {},
   "source": [
    "### Check number of unique values of features"
   ]
  },
  {
   "cell_type": "code",
   "execution_count": 6,
   "metadata": {},
   "outputs": [
    {
     "name": "stdout",
     "output_type": "stream",
     "text": [
      "column:Unnamed: 0 ---------> 616656\n",
      "column:Episode ---------> 6687\n",
      "column:Station ---------> 24\n",
      "column:Channel Type ---------> 2\n",
      "column:Season ---------> 4\n",
      "column:Year ---------> 4\n",
      "column:Date ---------> 877\n",
      "column:Day of week ---------> 7\n",
      "column:Start_time ---------> 138322\n",
      "column:End_time ---------> 138334\n",
      "column:Length ---------> 39\n",
      "column:Name of show ---------> 6687\n",
      "column:Name of episode ---------> 86557\n",
      "column:Genre ---------> 27\n",
      "column:First time or rerun ---------> 2\n",
      "column:# of episode in the season ---------> 2\n",
      "column:Movie? ---------> 2\n",
      "column:Game of the Canadiens during episode? ---------> 2\n",
      "column:Market Share_total ---------> 545\n",
      "column:Temperature in Montreal during episode ---------> 11829\n"
     ]
    }
   ],
   "source": [
    "for col in train_df:\n",
    "    print(\"column:{}\".format(str(col)) + \" ---------> \" + str(len(train_df[col].unique())))"
   ]
  },
  {
   "cell_type": "markdown",
   "metadata": {},
   "source": [
    "## features with NaN samples"
   ]
  },
  {
   "cell_type": "code",
   "execution_count": 7,
   "metadata": {},
   "outputs": [
    {
     "data": {
      "text/plain": [
       "['Start_time',\n",
       " 'End_time',\n",
       " 'Name of episode',\n",
       " 'Temperature in Montreal during episode']"
      ]
     },
     "execution_count": 7,
     "metadata": {},
     "output_type": "execute_result"
    }
   ],
   "source": [
    "train_df.columns[train_df.isna().any()].tolist()"
   ]
  },
  {
   "cell_type": "markdown",
   "metadata": {},
   "source": [
    "## 2- pirmary feature selection"
   ]
  },
  {
   "cell_type": "markdown",
   "metadata": {},
   "source": [
    "### Episode and Name of show are same features! then choose one of them"
   ]
  },
  {
   "cell_type": "code",
   "execution_count": 8,
   "metadata": {},
   "outputs": [],
   "source": [
    "# check equality of two columns\n",
    "assert sum(train_df['Episode'] == train_df['Name of show'][:]) == train_df.shape[0] , \"Columns are not same\""
   ]
  },
  {
   "cell_type": "markdown",
   "metadata": {},
   "source": [
    "### difference of end time and start time are high correlated with Length (using Pearson Correlation Coefficient about 99.5%), also we have NaN values in start time and end time, then we can remove start time and end time features from data"
   ]
  },
  {
   "cell_type": "code",
   "execution_count": 9,
   "metadata": {},
   "outputs": [
    {
     "name": "stdout",
     "output_type": "stream",
     "text": [
      "(0.9949798563110538, 0.0)\n"
     ]
    }
   ],
   "source": [
    "df = train_df.copy()\n",
    "df = df[df['Start_time'].notna()]\n",
    "df['Start_time'] = pd.to_datetime(df['Start_time'])\n",
    "df['End_time'] = pd.to_datetime(df['End_time'])\n",
    "df['Time_diff'] = (df['End_time'] - df['Start_time'])\n",
    "df['Time_diff'] = df['Time_diff'].dt.seconds /3600\n",
    "\n",
    "print(scipy.stats.pearsonr(df[\"Time_diff\"],df[\"Length\"] ))\n",
    "del df"
   ]
  },
  {
   "cell_type": "markdown",
   "metadata": {},
   "source": [
    "### Convert Date feature to Month and Day"
   ]
  },
  {
   "cell_type": "code",
   "execution_count": 10,
   "metadata": {},
   "outputs": [],
   "source": [
    "train_df['Date'] = pd.to_datetime(train_df['Date'])\n",
    "train_df['Month'] = train_df.Date.dt.month\n",
    "train_df['Day'] = train_df.Date.dt.day"
   ]
  },
  {
   "cell_type": "markdown",
   "metadata": {},
   "source": [
    "### 36% of a \"Name of episode\" feature is NaN and we can not use interpolate or some other approach...we can drop it!"
   ]
  },
  {
   "cell_type": "code",
   "execution_count": 11,
   "metadata": {},
   "outputs": [
    {
     "data": {
      "text/plain": [
       "36.09451622946992"
      ]
     },
     "execution_count": 11,
     "metadata": {},
     "output_type": "execute_result"
    }
   ],
   "source": [
    "100 * train_df[(train_df['Name of episode'].isnull())].shape[0]/len(train_df) "
   ]
  },
  {
   "cell_type": "markdown",
   "metadata": {},
   "source": [
    "### Conclution: These features should be dropped"
   ]
  },
  {
   "cell_type": "code",
   "execution_count": 12,
   "metadata": {},
   "outputs": [],
   "source": [
    "column_names = ['Unnamed: 0','Date', 'Start_time', 'End_time','Name of show', 'Name of episode']"
   ]
  },
  {
   "cell_type": "markdown",
   "metadata": {},
   "source": [
    "### We have NaN values on \"Temperature in Montreal during episode\" features..I choose linear Interpolate to fill NaN values"
   ]
  },
  {
   "cell_type": "code",
   "execution_count": 13,
   "metadata": {},
   "outputs": [],
   "source": [
    "train_df['Temperature in Montreal during episode'].interpolate(inplace=True)"
   ]
  },
  {
   "cell_type": "markdown",
   "metadata": {},
   "source": [
    "## Label Encoding with simple label encoder"
   ]
  },
  {
   "cell_type": "code",
   "execution_count": 14,
   "metadata": {},
   "outputs": [],
   "source": [
    "temp_train_df = drop_columns(train_df, column_names)\n",
    "# temp_test_df = drop_columns(test_df, column_names)\n",
    "\n",
    "\n",
    "train_target_df = temp_train_df['Market Share_total']\n",
    "train_df = temp_train_df.copy(deep=True)\n",
    "train_df.drop(['Market Share_total'], axis=1, inplace=True)\n",
    "\n",
    "# test_target_df = new_test_df['Market Share_total']\n",
    "# test_df = new_test_df.copy(deep=True)\n",
    "# test_df.drop(['Market Share_total'], axis=1, inplace=True)\n",
    "\n",
    "le = preprocessing.LabelEncoder()\n",
    "\n",
    "for item in train_df.loc[:, ~train_df.columns.isin(['Temperature in Montreal during episode','Year', 'Length', 'Month', 'Day'])]:\n",
    "    \n",
    "    train_df[item] = le.fit_transform(train_df[item]) + 1"
   ]
  },
  {
   "cell_type": "markdown",
   "metadata": {},
   "source": [
    "### Normalize our data"
   ]
  },
  {
   "cell_type": "code",
   "execution_count": 15,
   "metadata": {},
   "outputs": [],
   "source": [
    "scaler = StandardScaler()\n",
    "Normalized_train_arr = scaler.fit_transform(train_df)\n",
    "Normalized_train_target_arr = scaler.fit_transform(train_target_df.values.reshape(-1,1))"
   ]
  },
  {
   "cell_type": "markdown",
   "metadata": {},
   "source": [
    "## Use shuffle split train and test data: 70% for train and 30% for validation data\n",
    "## Choose RandomForest Regressor model with 12 estimator for our data\n",
    "## Metrics are R square and MAE"
   ]
  },
  {
   "cell_type": "code",
   "execution_count": 16,
   "metadata": {},
   "outputs": [
    {
     "name": "stderr",
     "output_type": "stream",
     "text": [
      "/home/cna/anaconda3/lib/python3.7/site-packages/ipykernel_launcher.py:18: DataConversionWarning: A column-vector y was passed when a 1d array was expected. Please change the shape of y to (n_samples,), for example using ravel().\n",
      "/home/cna/anaconda3/lib/python3.7/site-packages/ipykernel_launcher.py:18: DataConversionWarning: A column-vector y was passed when a 1d array was expected. Please change the shape of y to (n_samples,), for example using ravel().\n",
      "/home/cna/anaconda3/lib/python3.7/site-packages/ipykernel_launcher.py:18: DataConversionWarning: A column-vector y was passed when a 1d array was expected. Please change the shape of y to (n_samples,), for example using ravel().\n",
      "/home/cna/anaconda3/lib/python3.7/site-packages/ipykernel_launcher.py:18: DataConversionWarning: A column-vector y was passed when a 1d array was expected. Please change the shape of y to (n_samples,), for example using ravel().\n",
      "/home/cna/anaconda3/lib/python3.7/site-packages/ipykernel_launcher.py:18: DataConversionWarning: A column-vector y was passed when a 1d array was expected. Please change the shape of y to (n_samples,), for example using ravel().\n"
     ]
    }
   ],
   "source": [
    "ss = ShuffleSplit(n_splits=5, test_size=0.3, random_state=0)\n",
    "preds = []\n",
    "reals = []\n",
    "r2_scores_list = []\n",
    "mae_list = []\n",
    "pcc = []\n",
    "spc = []\n",
    "\n",
    "for train_index, val_index in ss.split(Normalized_train_arr):\n",
    "    \n",
    "    train_X = Normalized_train_arr[train_index]\n",
    "    train_Y = Normalized_train_target_arr[train_index]\n",
    "    \n",
    "    validation_X = Normalized_train_arr[val_index]\n",
    "    validation_y = Normalized_train_target_arr[val_index]\n",
    "    \n",
    "    regr = RandomForestRegressor(n_estimators=12, random_state=0, n_jobs=-1)\n",
    "    regr.fit(train_X, train_Y)\n",
    "    pred_y = regr.predict(validation_X)\n",
    "    # Model Metrics Calculation\n",
    "    r2_scores_list.append(regr.score(validation_X, validation_y))\n",
    "    mae_list.append(mean_absolute_error(scaler.inverse_transform(validation_y), scaler.inverse_transform(pred_y.reshape(-1,1))))\n",
    "    # Pearson Correlation Coefficient and Spearman Correlation Coefficient Calculations\n",
    "    pcc.append(scipy.stats.pearsonr(pred_y, validation_y.ravel())[0])\n",
    "    spc.append(scipy.stats.spearmanr(pred_y, validation_y.ravel())[0])\n",
    "    "
   ]
  },
  {
   "cell_type": "markdown",
   "metadata": {},
   "source": [
    "### Calculate Mean value of model metrics and statistical metrics"
   ]
  },
  {
   "cell_type": "code",
   "execution_count": 17,
   "metadata": {},
   "outputs": [
    {
     "name": "stdout",
     "output_type": "stream",
     "text": [
      "R Square mean value:  0.8566461292615359\n",
      "MAE mean value:  1.10838557054771\n",
      "Pearson Correlation Coefficient:  0.9258654084141197\n",
      "Spearman Correlation Coefficient:  0.8056042127167841\n"
     ]
    }
   ],
   "source": [
    "print(\"R Square mean value: \", str(np.mean(r2_scores_list)))\n",
    "print(\"MAE mean value: \", str(np.mean(mae_list)))\n",
    "print(\"Pearson Correlation Coefficient: \", str(np.mean(pcc)))\n",
    "print(\"Spearman Correlation Coefficient: \", str(np.mean(spc)))"
   ]
  },
  {
   "cell_type": "markdown",
   "metadata": {},
   "source": []
  }
 ],
 "metadata": {
  "kernelspec": {
   "display_name": "Python 3",
   "language": "python",
   "name": "python3"
  },
  "language_info": {
   "codemirror_mode": {
    "name": "ipython",
    "version": 3
   },
   "file_extension": ".py",
   "mimetype": "text/x-python",
   "name": "python",
   "nbconvert_exporter": "python",
   "pygments_lexer": "ipython3",
   "version": "3.7.4"
  },
  "pycharm": {
   "stem_cell": {
    "cell_type": "raw",
    "metadata": {
     "collapsed": false
    },
    "source": []
   }
  },
  "widgets": {
   "application/vnd.jupyter.widget-state+json": {
    "state": {},
    "version_major": 2,
    "version_minor": 0
   }
  }
 },
 "nbformat": 4,
 "nbformat_minor": 2
}
